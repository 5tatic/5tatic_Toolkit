{
 "cells": [
  {
   "cell_type": "code",
   "execution_count": null,
   "metadata": {
    "vscode": {
     "languageId": "powershell"
    }
   },
   "outputs": [],
   "source": [
    "python -m venv venv\n",
    "source venv/bin/activate # on Windows use 'venv/Scripts/activate'\n",
    "pip install Pillow numpy opencv-python scikit-image"
   ]
  },
  {
   "cell_type": "code",
   "execution_count": null,
   "metadata": {},
   "outputs": [],
   "source": [
    "from PIL import Image, ImageEnhance\n",
    "\n",
    "#  load an image\n",
    "image = Image.open('path/to/your/image.jpg')\n",
    "\n",
    "# Enhance the color saturation\n",
    "enhancer = ImageEnhance.Color(image)\n",
    "image_enhanced = enhancer.enhance(2.0) # Increase color saturation\n",
    "image_unenhanced = enhancer.enhance(1.0) # Decrease color saturation\n",
    "\n",
    "# Adjust brightness\n",
    "enhancer = ImageEnhance.Brightness(image_enhanced)\n",
    "image_brightend = enhancer.enhance(1.2) # Slightly increase brightness\n",
    "\n",
    "# Save the edited images\n",
    "image_brightend.save('path/to/save/edited_image.jpg')"
   ]
  },
  {
   "cell_type": "code",
   "execution_count": null,
   "metadata": {},
   "outputs": [],
   "source": [
    "import cv2\n",
    "import numpy as np\n",
    "\n",
    "# Load the image\n",
    "image = cv2.imread('path/to/your/image')\n",
    "\n",
    "# Convert image to grayscale\n",
    "gray = cv2.cvtColor(image, cv2.COLOR_BGR2GRAY)\n",
    "\n",
    "# Apply thresholding to create a mask\n",
    "_, mask = cv2.threshold(gray, 250, 255, cv2.THRESH_BINARY)\n",
    "\n",
    "# Invert mask\n",
    "mask_inv = cv2.bitwise_not(mask)\n",
    " \n",
    "# Remove background\n",
    "result = cv2.bitwise_and(image, image, mask=mask_inv)\n",
    "\n",
    "cv2.imwrite('path/to/save/result.jpg', result)"
   ]
  },
  {
   "cell_type": "code",
   "execution_count": null,
   "metadata": {},
   "outputs": [],
   "source": [
    "import tkinter as tk\n",
    "from tkinter import filedialog\n",
    "from PIL import ImageTk, Image\n",
    "\n",
    "def open_image():\n",
    "    # Function to open an image an dislplay it\n",
    "    pass\n",
    "\n",
    "app = tk.Tk()\n",
    "app.title(\"Image Ogre\")\n",
    "\n",
    "open_button = tk.Button(app, text=\"Open Image\", command=open_image)\n",
    "open_button.pack()\n",
    "\n",
    "app.mainloop()"
   ]
  },
  {
   "cell_type": "code",
   "execution_count": null,
   "metadata": {},
   "outputs": [],
   "source": [
    "from PIL import Image\n",
    "\n",
    "def resize_section(image_path, crop_box, new_size):\n",
    "    \"\"\"\n",
    "    Resize a specific section of an image.\n",
    "    :param image_path: Path to the input image.\n",
    "    :param crop_box: A tuple (left, upper, right, lower) defining the section to resize.\n",
    "    :param new_size: A tuple (width, height) defining the new size of the section.\n",
    "    :return: An image object with the modified section.\n",
    "    \"\"\"\n",
    "    with Image.open(image_path) as img:\n",
    "        # Crop the section\n",
    "        section = img.crop(crop_box)\n",
    "        \n",
    "        # Resize the section\n",
    "        resized_section = section.resize(new_size)\n",
    "        \n",
    "        # Paste the resized section back onto the image\n",
    "        img.paste(resized_section, crop_box[:2])\n",
    "        \n",
    "        return img\n"
   ]
  },
  {
   "cell_type": "code",
   "execution_count": null,
   "metadata": {},
   "outputs": [],
   "source": [
    "import cv2\n",
    "import numpy as np\n",
    "\n",
    "def resize_section_opencv(image_path, crop_box, new_size):\n",
    "    \"\"\"\n",
    "    Resize a specific section of an image using OpenCV.\n",
    "    :param image_path: Path to the input image.\n",
    "    :param crop_box: A tuple (x, y, width, height) defining the section to resize.\n",
    "    :param new_size: A tuple (new_width, new_height) for the resized section.\n",
    "    :return: Image with the resized section.\n",
    "    \"\"\"\n",
    "    # Load the image\n",
    "    img = cv2.imread(image_path)\n",
    "    \n",
    "    # Crop the section\n",
    "    x, y, width, height = crop_box\n",
    "    section = img[y:y+height, x:x+width]\n",
    "    \n",
    "    # Resize the section\n",
    "    resized_section = cv2.resize(section, new_size, interpolation = cv2.INTER_AREA)\n",
    "    \n",
    "    # Replace the original section with the resized section\n",
    "    img[y:y+new_size[1], x:x+new_size[0]] = resized_section\n",
    "    \n",
    "    return img\n"
   ]
  }
 ],
 "metadata": {
  "language_info": {
   "name": "python"
  }
 },
 "nbformat": 4,
 "nbformat_minor": 2
}
