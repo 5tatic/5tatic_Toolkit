{
 "cells": [
  {
   "cell_type": "code",
   "execution_count": null,
   "metadata": {
    "vscode": {
     "languageId": "html"
    }
   },
   "outputs": [],
   "source": []
  },
  {
   "cell_type": "code",
   "execution_count": null,
   "metadata": {},
   "outputs": [],
   "source": [
    "from flask import Flask, request, jsonify\n",
    "from flask_sqlalchemy import SQLAlchemy\n",
    "from flask_login import LoginManager, UserMixin, login_user, login_required, logout_user\n",
    "from flask_jwt_extended import JWTManager, create_access_token, jwt_required\n",
    "from werkzeug.security import generate_password_hash, check_password_hash\n",
    "from flask_limiter import Limiter\n",
    "from flask_limiter.util import get_remote_address\n",
    "from flask_talisman import Talisman\n",
    "import logging\n",
    "\n",
    "app = Flask(__name__)\n",
    "app.config['SECRET_KEY'] = 'your_secret_key'\n",
    "app.config['SQLALCHEMY_DATABASE_URI'] = 'sqlite:///db.sqlite'\n",
    "app.config['JWT_SECRET_KEY'] = 'jwt_secret_key'\n",
    "\n",
    "db = SQLAlchemy(app)\n",
    "login_manager = LoginManager(app)\n",
    "jwt = JWTManager(app)\n",
    "limiter = Limiter(app, key_func=get_remote_address)\n",
    "Talisman(app)\n",
    "\n",
    "logging.basicConfig(filename='access.log', level=logging.INFO, format='%(asctime)s - %(levelname)s - %(message)s')\n",
    "\n",
    "class User(UserMixin, db.Model):\n",
    "    id = db.Column(db.Integer, primary_key=True)\n",
    "    username = db.Column(db.String(50), unique=True, nullable=False)\n",
    "    password_hash = db.Column(db.String(128), nullable=False)\n",
    "    role = db.Column(db.String(50), nullable=False, default='user')\n",
    "\n",
    "@login_manager.user_loader\n",
    "def load_user(user_id):\n",
    "    return User.query.get(int(user_id))\n",
    "\n",
    "@app.route('/register', methods=['POST'])\n",
    "def register():\n",
    "    username = request.json.get('username')\n",
    "    password = request.json.get('password')\n",
    "    if not username or not password:\n",
    "        return jsonify({'message': 'Missing Username or Password'}), 400\n",
    "    if User.query.filter_by(username=username).first():\n",
    "        return jsonify({'message': 'User already exists'}), 400\n",
    "    hashed_password = generate_password_hash(password)\n",
    "    new_user = User(username=username, password_hash=hashed_password)\n",
    "    db.session.add(new_user)\n",
    "    db.session.commit()\n",
    "    return jsonify({'message': 'User registered successfully'}), 201\n",
    "\n",
    "@app.route('/login', methods=['POST'])\n",
    "def login():\n",
    "    username = request.json.get('username')\n",
    "    password = request.json.get('password')\n",
    "    user = User.query.filter_by(username=username).first()\n",
    "    if user and check_password_hash(user.password_hash, password):\n",
    "        login_user(user)\n",
    "        access_token = create_access_token(identity=username)\n",
    "        return jsonify(access_token=access_token), 200\n",
    "    return jsonify({'message': 'Invalid username or password'}), 401\n",
    "\n",
    "@app.route('/protected', methods=['GET'])\n",
    "@jwt_required()\n",
    "def protected():\n",
    "    return jsonify({'message': 'This is a protected route'})\n",
    "\n",
    "if __name__ == '__main__':\n",
    "    db.create_all()\n",
    "    app.run(ssl_context='adhoc')\n",
    "\n"
   ]
  },
  {
   "cell_type": "code",
   "execution_count": null,
   "metadata": {},
   "outputs": [],
   "source": [
    "from milvus import Milvus, DataType\n",
    "from flask import Flask, request, jsonify\n",
    "\n",
    "app = Flask(__name__)\n",
    "\n",
    "# Initialize Milvus client\n",
    "milvus_client = Milvus(host='localhost', port='19530')\n",
    "\n",
    "# Example collection parameters\n",
    "collection_name = 'vector_collection'\n",
    "dim = 128 # Dimension of the vectors\n",
    "\n",
    "collection_param = {\n",
    "    \"fields\": [\n",
    "        {\"name\": \"ID\", \"type\": DataType.INT64, \"auto_id\": True},\n",
    "        {\"name\": \"vector\", \"type\": DataType.FLOAT_VECTOR, \"params\": {\"dim\": dim}},\n",
    "    ],\n",
    "    \"segment_row_limit\": 4096,\n",
    "    \"auto_id\": True\n",
    "}\n",
    "\n",
    "# Ensure the collection exists\n",
    "if not milvus_client.has_collection(collection_name):\n",
    "    milvus_client.create_collection(collection_name, collection_param)\n",
    "\n",
    "@app.route('/insert_vector', methods=['POST'])\n",
    "def insert_vector():\n",
    "    vectors = request.json.get('vectors') # Expecting vectors to be a list of lists\n",
    "    if not vectors:\n",
    "        return jsonify({'messsage': 'Vectors inserted successfully', 'IDs': mr.primary_keys})\n",
    "    \n",
    "# Define other endpoints for search, update, delete\n",
    "\n",
    "if __name__ == '__main__':\n",
    "    app.run(debug=True)\n",
    "@app.route('/seach_vectors', methods=['POST'])\n",
    "def search_vectors():\n",
    "    query_vectors = request.json.get('query_vectors') # A list of query vectors\n",
    "    top_k = request.json.get('top_k', 10) # Number of nearest vectors to return\n",
    "    if not query_vectors:\n",
    "        return jsonify({\"message\": 'No query vectors provided'}), 400\n",
    "    \n",
    "    search_params = {\"metric_type\": \"L2\", \"params\": {\"nprobe\": 10}}\n",
    "    results = milvus_client.search(collection_name, [query_vectors],\n",
    "                                   \"vector\", params=search_params, limit=top_k)\n",
    "    \n",
    "    # Format the results before sanding back\n",
    "    formatted_results = [[(result.id, result.distance) for result in hit] for hit in results]\n",
    "    return jsonify({'results': formatted_results})\n",
    "    \n",
    "@app.route('/update_vector', methods=['POST'])\n",
    "def depreciate_vector():\n",
    "    vector_id = request.json.get('vector_id')\n",
    "    if not vector():\n",
    "        return jsonify({'message': 'Missing vector ID'}), 400\n",
    "    \n",
    "    # Assuming you have a function to update the status in your metadata storage\n",
    "    if update_vector_status(vector_id, 'depreciated'):\n",
    "        return jsonify({'message': 'Vector marked as depreciated'})\n",
    "    else:\n",
    "        return jsonify({'message': 'Failed to depreciate vector'}), 500\n",
    "    \n",
    "    return jsonify({'message': 'Vector marked as depreciated'})"
   ]
  },
  {
   "cell_type": "code",
   "execution_count": null,
   "metadata": {},
   "outputs": [],
   "source": [
    "from flask import Flask, jsonify, request\n",
    "from flask_sqlalchemy import SQLAlchemy\n",
    "from flask_jwt_extended import JWTManager\n",
    "from werkzeug.security import generate_password_hash, check_password_hash\n",
    "\n",
    "app = Flask(__name__)\n",
    "app.config['SECRET_KEY'] = 'your_secret_key'\n",
    "app.config['SQLALCHEMY_DATABASE-URI'] = 'sqlite:///db.sqlite'\n",
    "app.config['JWT_SECRET_KEY'] = 'jwt_secret_key'\n",
    "\n",
    "db = SQLAlchemy(app)\n",
    "jwt = JWTManager(app)\n",
    "\n",
    "# Models and routes go here\n",
    "\n",
    "if __name__ == '__main__':\n",
    "    db.create_all()\n",
    "    app.run(debug=True, ssl_context='adhoc')"
   ]
  },
  {
   "cell_type": "code",
   "execution_count": null,
   "metadata": {},
   "outputs": [],
   "source": [
    "from flask_sqlalchemy import SQLAlchemy\n",
    "from dateitme import datetime \n",
    "\n",
    "db = SQLAlchemy()\n",
    "class User(db.Model):\n",
    "    id = db.Column(db.Integer, primary_key=True)\n",
    "    username = db.Column(db.String(50), unique=True, nullable=False)\n",
    "    password_hash = db.Column(db.String(128), nullable=False)\n",
    "    role = db.Column(db.String(50), nullable=False, default='user')\n",
    "    # Additional fields for user management\n",
    "    email = db.Column(db.String(100), unique=True, nullable=False)\n",
    "    created_at = db.Column(db.DateTime, nullable=False, default=datetime.utcnow)\n",
    "\n",
    "class LogEntry(db.Model):\n",
    "    id = db.Column(db.Integer, primary_key=True)\n",
    "    user_id = db.Column(db.Integer, db.ForiegnKey('user.id'), nullable=False)\n",
    "    action = db.Column(db.String(255), nullable=False)\n",
    "    details = db.Column(db.Text, nullable=False)\n",
    "    created_at = db.Column(db.DateTime, nulable=False, default=datetime.utcnow)\n",
    "\n",
    "    user = db.relationship('User', backref=db.backref('log_entries', lazy=True))"
   ]
  },
  {
   "cell_type": "code",
   "execution_count": null,
   "metadata": {},
   "outputs": [],
   "source": [
    "@app.route('/api/users/register', methods=['POST'])\n",
    "def register_user():\n",
    "    # Logic to regist new user\n",
    "    pass\n",
    "\n",
    "@app.route('/api/vectors/update', methods=['POST'])\n",
    "def update_vector():\n",
    "    # Logic to update vector information\n",
    "    pass\n",
    "\n",
    "@app.route('/api/vectors/depreciate', methods=['POST'])\n",
    "@jwt_required()\n",
    "def depreciate_vector():\n",
    "    # Logic to mark a vector as depreciated\n",
    "    pass"
   ]
  },
  {
   "cell_type": "code",
   "execution_count": null,
   "metadata": {},
   "outputs": [],
   "source": [
    "@app.route('/api/logs', methods=['GET'])\n",
    "@jwt_required()\n",
    "def view_logs():\n",
    "    # Logic to view system logs\n",
    "    pass"
   ]
  },
  {
   "cell_type": "markdown",
   "metadata": {},
   "source": [
    "<h4>Data compliance improvments and implementation<h4>"
   ]
  },
  {
   "cell_type": "markdown",
   "metadata": {},
   "source": [
    "<ul>\n",
    "    <li>\n",
    "        <b>HIPAA</b> Compliance\n",
    "    </li>\n",
    "</ul>"
   ]
  },
  {
   "cell_type": "code",
   "execution_count": null,
   "metadata": {},
   "outputs": [],
   "source": [
    "# Implement MFA using a third-party library\n",
    "# Example: Using PyQTP for One-Time Passwords (OTP) for a second authentication\n",
    "import pyotp\n",
    "totp = pyotp.TOTP('base32secret3232')\n",
    "print(\"OTP for second factor:\", totp.now())"
   ]
  },
  {
   "cell_type": "markdown",
   "metadata": {},
   "source": [
    "<ul>\n",
    "    <li>\n",
    "        <b>GDPR</b> Compliance    \n",
    "    </li>\n",
    "</ul>"
   ]
  },
  {
   "cell_type": "code",
   "execution_count": null,
   "metadata": {},
   "outputs": [],
   "source": [
    "# Example: Function to delete user data\n",
    "def delete_user_data(user_id):\n",
    "    # Delete or anonymize user data in compliance with GDPR\n",
    "    pass"
   ]
  },
  {
   "cell_type": "markdown",
   "metadata": {},
   "source": [
    "<b><sup>Log_0gre</sup></b>"
   ]
  },
  {
   "cell_type": "markdown",
   "metadata": {},
   "source": [
    "<ul>\n",
    "    <li>\n",
    "    <b>HIPAA</b> Compliance\n",
    "    </li>\n",
    "</ul>"
   ]
  },
  {
   "cell_type": "code",
   "execution_count": null,
   "metadata": {},
   "outputs": [],
   "source": [
    "# Example: Secure and anonymize log messages\n",
    "def secure_log(message, user_id=None):\n",
    "    # Process message to remove or anonymize PHI before logging\n",
    "    pass"
   ]
  },
  {
   "cell_type": "markdown",
   "metadata": {},
   "source": [
    "<ul>\n",
    "    <li>\n",
    "    <b>CI/CD Security Checklist</b> Compliance\n",
    "    </li>\n",
    "</ul>"
   ]
  },
  {
   "cell_type": "code",
   "execution_count": null,
   "metadata": {},
   "outputs": [],
   "source": [
    "# Example: Log changes in applicaion\n",
    "def log_change(action, user_id, description):\n",
    "    # Log actions taken by users in CI/CD pipeline\n",
    "    pass"
   ]
  },
  {
   "cell_type": "markdown",
   "metadata": {},
   "source": [
    "<ul>\n",
    "    <li>\n",
    "        <b>Data Processing and Storage <sup>0gre_Toolkit.py</sup></b>\n",
    "    </li>\n",
    "</ul>\n",
    "<ol>\n",
    "    <li>GDPR Compliance</li>\n",
    "    <li>HIPAA Compliance</li>\n",
    "</ol>\n",
    "<p>Encrypt sensitive data both at rest and in transit. Implement Access Controls</p>"
   ]
  },
  {
   "cell_type": "code",
   "execution_count": null,
   "metadata": {},
   "outputs": [],
   "source": [
    "# Example: Encryption of sensitive data\n",
    "from cryptography.fernet import Fernet\n",
    "key = Fernet.generate_key()\n",
    "cipher_suite = Fernet(key)\n",
    "encrypted_text = cipher_suite.encrypt(b\"Sensitive Data\")\n",
    "decrypted_text = cipher_suite.decrypt(encrypted_text)"
   ]
  },
  {
   "cell_type": "markdown",
   "metadata": {},
   "source": [
    "<i>Ensure Data minimization and purpose limitation as required by GDPR."
   ]
  },
  {
   "cell_type": "code",
   "execution_count": null,
   "metadata": {},
   "outputs": [],
   "source": [
    "# Example: Function to ensure data minimization\n",
    "def collect_data(user_data):\n",
    "    # Only collect data necessary for the specified purpose\n",
    "    pass"
   ]
  },
  {
   "cell_type": "markdown",
   "metadata": {},
   "source": [
    "<h3>Web Interface <sup>index.html, style.css</sup>"
   ]
  },
  {
   "cell_type": "code",
   "execution_count": null,
   "metadata": {
    "vscode": {
     "languageId": "html"
    }
   },
   "outputs": [],
   "source": [
    "<!-- Example: GDPR Consent form in HTML -->\n",
    "<form id=\"gdpr-consent-form\">\n",
    "    <label>\n",
    "    <input type=\"checkbox\" name=\"gdpr-consent\">\n",
    "        I consent to the processing of my personal data in accordance with the privacy policy.\n",
    "    </label>\n",
    "    <button type=\"submit\">Submit</button>\n",
    "</form>"
   ]
  }
 ],
 "metadata": {
  "language_info": {
   "name": "python"
  }
 },
 "nbformat": 4,
 "nbformat_minor": 2
}
