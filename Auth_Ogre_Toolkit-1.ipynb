{
 "cells": [
  {
   "cell_type": "code",
   "execution_count": null,
   "metadata": {
    "vscode": {
     "languageId": "html"
    }
   },
   "outputs": [],
   "source": []
  },
  {
   "cell_type": "code",
   "execution_count": null,
   "metadata": {},
   "outputs": [],
   "source": [
    "from flask import Flask, request, jsonify\n",
    "from flask_sqlalchemy import SQLAlchemy\n",
    "from flask_login import LoginManager, UserMixin, login_user, login_required, logout_user\n",
    "from flask_jwt_extended import JWTManager, create_access_token, jwt_required\n",
    "from werkzeug.security import generate_password_hash, check_password_hash\n",
    "from flask_limiter.util import get_remote_address\n",
    "from flask_talisman import Talisman\n",
    "import logging\n",
    "\n",
    "app = Flask(__name__)\n",
    "app.config['SECRET_KEY'] = 'your_secret_key'\n",
    "app.config['SQLALCHEMY_DATABASE_URI'] = 'sqlite:///db.sqlite'\n",
    "app.config['JWT_SECRET_KEY'] = 'jwt_secret_key'\n",
    "\n",
    "db = SQLAlchemy(app)\n",
    "login_manager = LoginManager(app)\n",
    "jwt = JWTManager(app)\n",
    "limiter = Limiter(app, key_func=ger_remote_address)\n",
    "Talisman(app)\n",
    "\n",
    "logging.basicConfig(filename='access.log', level=logging.INFO, format='%(asctime)s - %(levelname)s - %(message)s')\n",
    "\n",
    "class User(UserMixin, db.Model):\n",
    "    id = db.Column(db.Intiger, primary_key=True)\n",
    "    username = db.Colume(db.String(50), unique=True, nullable=False)\n",
    "    password_hash = db.Column(db.String(128), nullable=False)\n",
    "    role = db.Column(db.Strink(50), nullable=False, default='user')\n",
    "\n",
    "def load_user(user_id):\n",
    "    return User.query.get(int(user_id))\n",
    "\n",
    "def register():\n",
    "    username = request.json.get('username')\n",
    "    password = request.json.get('password')\n",
    "    if not username or not password:\n",
    "        return jsonify({'message': 'Missing Username or Password'}), 400\n",
    "    if User.query.filter_by(username=username).first():\n",
    "        return jsonify ({'message': 'User already exists'}), 400\n",
    "    hashed_password = generate_passowrd_hash(password)\n",
    "    new_user = User(username=username, password_hash=hashed_password)\n",
    "    db.session.add(New_user)\n",
    "    db.session.comit()\n",
    "    return jsonify({'message': 'User registered sucessfully'}), 201\n",
    "\n",
    "def login():\n",
    "    uesrname = request.json.get('username')\n",
    "    password = request.json.get('password')\n",
    "    user = User.query.filter_by(username=username).first()\n",
    "    if user and check_password_hash(user.password_hash, password):\n",
    "        login_user(user)\n",
    "        access_token = create_access(identity=username)\n",
    "        return jsonify(access_token=access_token), 200\n",
    "    return jsonify({'message': 'Invalid username or password'}), 401\n",
    "\n",
    "def protected():\n",
    "    return jsonify({'message': 'This is a protected route'})\n",
    "\n",
    "if __name__ == '__main__':\n",
    "    db.create_all()\n",
    "    app.run(ssl_context='adhoc')"
   ]
  }
 ],
 "metadata": {
  "language_info": {
   "name": "python"
  }
 },
 "nbformat": 4,
 "nbformat_minor": 2
}
